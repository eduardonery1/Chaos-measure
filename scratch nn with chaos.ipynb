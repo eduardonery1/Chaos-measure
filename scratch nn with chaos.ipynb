{
 "cells": [
  {
   "cell_type": "markdown",
   "metadata": {},
   "source": [
    "# Aplicar conceitos de sistemas dinâmicos em redes neurais simples"
   ]
  },
  {
   "cell_type": "markdown",
   "metadata": {},
   "source": [
    "## Backpropagation como um processo iterativo"
   ]
  },
  {
   "cell_type": "code",
   "execution_count": 37,
   "metadata": {},
   "outputs": [],
   "source": [
    "import numpy as np"
   ]
  },
  {
   "cell_type": "code",
   "execution_count": 38,
   "metadata": {},
   "outputs": [],
   "source": [
    "X = np.array([  [0,0,1],\n",
    "                [0,1,1],\n",
    "                [1,0,1],\n",
    "                [1,1,1] ])            \n",
    "y = np.array([[0,0,1,1]]).T"
   ]
  },
  {
   "cell_type": "code",
   "execution_count": 51,
   "metadata": {},
   "outputs": [],
   "source": [
    "class chaotic_nn:\n",
    "\n",
    "    def __init__(self, in_set, out_set, size, memory, lrate):\n",
    "        self.in_set = in_set\n",
    "        self.out_set = out_set\n",
    "        self.size = size\n",
    "        np.random.seed(1)\n",
    "        self.syn0 = np.random.random((size, 1)) - 1\n",
    "        self.l0 = self.in_set\n",
    "        self.l1 = nonlin(np.dot(self.l0, self.syn0))\n",
    "        self.memory = memory\n",
    "        self.lrate = lrate\n",
    "        \n",
    "    def nonlin(x,deriv=False):\n",
    "        if(deriv==True):\n",
    "            return x*(1-x)\n",
    "        return 1/(1+np.exp(-x))\n",
    "\n",
    "    def backprop(self, iterations):\n",
    "        for i in range(iterations):\n",
    "            l1_error = self.out_set - self.l1\n",
    "            l1_delta = l1_error * nonlin(self.l1,True)\n",
    "            self.syn0 += np.dot(l0.T,l1_delta)*self.lrate\n",
    "            self.memory.append(syn0)\n",
    "            return self.l1, l1_error\n",
    "        \n",
    "    def chaos_measure(self, iterations, change):\n",
    "        for j in range(iterations):\n",
    "            self.backprop(iterations)\n",
    "            a = syn0\n",
    "            self.syn0 += np.random.random((self.size, 1)) - 1\n",
    "            self.syn0 += self.syn0+change\n",
    "            self.backprop(iterations)\n",
    "            b = syn0\n",
    "            return \"caos é: \", b - a \n",
    "            \n",
    "        "
   ]
  },
  {
   "cell_type": "code",
   "execution_count": 52,
   "metadata": {},
   "outputs": [
    {
     "data": {
      "text/plain": [
       "(array([[0.26896391],\n",
       "        [0.21762494],\n",
       "        [0.17039031],\n",
       "        [0.13440737]]),\n",
       " array([[-0.26896391],\n",
       "        [-0.21762494],\n",
       "        [ 0.82960969],\n",
       "        [ 0.86559263]]))"
      ]
     },
     "execution_count": 52,
     "metadata": {},
     "output_type": "execute_result"
    }
   ],
   "source": [
    "m = []\n",
    "nn = chaotic_nn(X, y, 3, m, 10)\n",
    "nn.chaos_measure(10000000, 1)\n",
    "nn.backprop(90000)"
   ]
  },
  {
   "cell_type": "code",
   "execution_count": null,
   "metadata": {},
   "outputs": [],
   "source": []
  }
 ],
 "metadata": {
  "kernelspec": {
   "display_name": "Python 3",
   "language": "python",
   "name": "python3"
  },
  "language_info": {
   "codemirror_mode": {
    "name": "ipython",
    "version": 3
   },
   "file_extension": ".py",
   "mimetype": "text/x-python",
   "name": "python",
   "nbconvert_exporter": "python",
   "pygments_lexer": "ipython3",
   "version": "3.7.6"
  }
 },
 "nbformat": 4,
 "nbformat_minor": 4
}
